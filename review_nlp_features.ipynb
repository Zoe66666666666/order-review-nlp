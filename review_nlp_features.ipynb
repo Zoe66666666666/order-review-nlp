{
 "cells": [
  {
   "cell_type": "code",
   "execution_count": 101,
   "id": "aa253c5f",
   "metadata": {},
   "outputs": [
    {
     "name": "stderr",
     "output_type": "stream",
     "text": [
      "[nltk_data] Error loading punkt: <urlopen error [SSL:\n",
      "[nltk_data]     CERTIFICATE_VERIFY_FAILED] certificate verify failed:\n",
      "[nltk_data]     unable to get local issuer certificate (_ssl.c:1000)>\n",
      "[nltk_data] Error loading stopwords: <urlopen error [SSL:\n",
      "[nltk_data]     CERTIFICATE_VERIFY_FAILED] certificate verify failed:\n",
      "[nltk_data]     unable to get local issuer certificate (_ssl.c:1000)>\n"
     ]
    }
   ],
   "source": [
    "import pandas as pd\n",
    "from textblob import TextBlob\n",
    "import nltk\n",
    "from nltk.corpus import stopwords\n",
    "from nltk.tokenize import word_tokenize\n",
    "from collections import Counter\n",
    "import string\n",
    "\n",
    "\n",
    "nltk.download('punkt')\n",
    "nltk.download('stopwords')\n",
    "\n",
    "\n",
    "df = pd.read_csv(\"orders.csv\")"
   ]
  },
  {
   "cell_type": "code",
   "execution_count": 102,
   "id": "054dca67",
   "metadata": {},
   "outputs": [],
   "source": [
    "df['review_length'] = df['review_text'].apply(lambda x: len(x.split()))\n",
    "df['sentiment_polarity'] = df['review_text'].apply(lambda x: TextBlob(x).sentiment.polarity)\n",
    "df['sentiment_subjectivity'] = df['review_text'].apply(lambda x: TextBlob(x).sentiment.subjectivity)\n"
   ]
  },
  {
   "cell_type": "code",
   "execution_count": 103,
   "id": "5b177cec",
   "metadata": {},
   "outputs": [],
   "source": [
    "def clean_text(text):\n",
    "    return text.translate(str.maketrans('', '', string.punctuation)).lower()\n",
    "\n",
    "df['clean_text'] = df['review_text'].apply(clean_text)"
   ]
  },
  {
   "cell_type": "code",
   "execution_count": 104,
   "id": "dd5675b5",
   "metadata": {},
   "outputs": [],
   "source": [
    "negative_keywords = [\n",
    "    'late', 'delay', 'delayed', 'slow', 'still waiting', 'took too long', 'not on time',\n",
    "   \n",
    "    'damaged', 'broken', 'crushed', 'torn', 'opened', 'leaking', 'wet',\n",
    "    \n",
    "    'lost', 'missing', 'not delivered', 'never arrived', 'never got it', \n",
    "    \"didn't receive\", 'no package', 'nowhere to be found', 'disappeared', 'vanished',\n",
    "    \n",
    "    'wrong address', 'left outside', 'left unattended', 'not my address', 'misdelivered',\n",
    "\n",
    "    'bad service', 'rude', 'unhelpful', 'no update', 'tracking issue', \n",
    "    'tracking didn’t work', 'no tracking info', 'unresponsive',\n",
    "\n",
    "    'bad', 'terrible', 'awful', 'poor', 'worst', 'disappointed', 'inconvenient'\n",
    "]\n",
    "def has_negative_keyword(text):\n",
    "    return int(any(word in text for word in negative_keywords))\n",
    "\n",
    "df['has_negative_keyword'] = df['clean_text'].apply(has_negative_keyword)\n"
   ]
  },
  {
   "cell_type": "code",
   "execution_count": 105,
   "id": "7f1edfb3",
   "metadata": {},
   "outputs": [],
   "source": [
    "keywords_dict = {\n",
    "    'late': ['late', 'delayed', 'delay', 'took too long', 'not on time'],\n",
    "    'lost': ['lost', 'missing', 'not delivered', 'never arrived', 'never got it', \"didn't receive\"],\n",
    "    'broken': ['damaged', 'broken', 'crushed', 'torn', 'opened', 'leaking'],\n",
    "    'address': ['wrong address', 'misdelivered', 'left outside', 'not my address'],\n",
    "}\n",
    "def keyword_group_count(text, keywords):\n",
    "    text = text.lower()\n",
    "    return sum(text.count(word) for word in keywords)\n",
    "\n",
    "for label, keyword_list in keywords_dict.items():\n",
    "    df[f'{label}_count'] = df['review_text'].apply(lambda x: keyword_group_count(x, keyword_list))"
   ]
  },
  {
   "cell_type": "code",
   "execution_count": 106,
   "id": "5311b1b9",
   "metadata": {},
   "outputs": [
    {
     "data": {
      "text/html": [
       "<div>\n",
       "<style scoped>\n",
       "    .dataframe tbody tr th:only-of-type {\n",
       "        vertical-align: middle;\n",
       "    }\n",
       "\n",
       "    .dataframe tbody tr th {\n",
       "        vertical-align: top;\n",
       "    }\n",
       "\n",
       "    .dataframe thead th {\n",
       "        text-align: right;\n",
       "    }\n",
       "</style>\n",
       "<table border=\"1\" class=\"dataframe\">\n",
       "  <thead>\n",
       "    <tr style=\"text-align: right;\">\n",
       "      <th></th>\n",
       "      <th>review_text</th>\n",
       "      <th>review_length</th>\n",
       "      <th>sentiment_polarity</th>\n",
       "      <th>late_count</th>\n",
       "      <th>lost_count</th>\n",
       "      <th>broken_count</th>\n",
       "      <th>address_count</th>\n",
       "    </tr>\n",
       "  </thead>\n",
       "  <tbody>\n",
       "    <tr>\n",
       "      <th>0</th>\n",
       "      <td>Arrived on time, well packed.</td>\n",
       "      <td>5</td>\n",
       "      <td>0.0000</td>\n",
       "      <td>0</td>\n",
       "      <td>0</td>\n",
       "      <td>0</td>\n",
       "      <td>0</td>\n",
       "    </tr>\n",
       "    <tr>\n",
       "      <th>1</th>\n",
       "      <td>Delivered late, box was damaged.</td>\n",
       "      <td>5</td>\n",
       "      <td>-0.3000</td>\n",
       "      <td>1</td>\n",
       "      <td>0</td>\n",
       "      <td>1</td>\n",
       "      <td>0</td>\n",
       "    </tr>\n",
       "    <tr>\n",
       "      <th>2</th>\n",
       "      <td>Smooth delivery.</td>\n",
       "      <td>2</td>\n",
       "      <td>0.4000</td>\n",
       "      <td>0</td>\n",
       "      <td>0</td>\n",
       "      <td>0</td>\n",
       "      <td>0</td>\n",
       "    </tr>\n",
       "    <tr>\n",
       "      <th>3</th>\n",
       "      <td>Tracking was inaccurate.</td>\n",
       "      <td>3</td>\n",
       "      <td>0.0000</td>\n",
       "      <td>0</td>\n",
       "      <td>0</td>\n",
       "      <td>0</td>\n",
       "      <td>0</td>\n",
       "    </tr>\n",
       "    <tr>\n",
       "      <th>4</th>\n",
       "      <td>Wrong address at first, fixed later.</td>\n",
       "      <td>6</td>\n",
       "      <td>-0.0375</td>\n",
       "      <td>1</td>\n",
       "      <td>0</td>\n",
       "      <td>0</td>\n",
       "      <td>1</td>\n",
       "    </tr>\n",
       "  </tbody>\n",
       "</table>\n",
       "</div>"
      ],
      "text/plain": [
       "                            review_text  review_length  sentiment_polarity  \\\n",
       "0         Arrived on time, well packed.              5              0.0000   \n",
       "1      Delivered late, box was damaged.              5             -0.3000   \n",
       "2                      Smooth delivery.              2              0.4000   \n",
       "3              Tracking was inaccurate.              3              0.0000   \n",
       "4  Wrong address at first, fixed later.              6             -0.0375   \n",
       "\n",
       "   late_count  lost_count  broken_count  address_count  \n",
       "0           0           0             0              0  \n",
       "1           1           0             1              0  \n",
       "2           0           0             0              0  \n",
       "3           0           0             0              0  \n",
       "4           1           0             0              1  "
      ]
     },
     "execution_count": 106,
     "metadata": {},
     "output_type": "execute_result"
    }
   ],
   "source": [
    "df[['review_text', 'review_length', 'sentiment_polarity', \n",
    "    'late_count', 'lost_count', 'broken_count','address_count']].head()\n"
   ]
  }
 ],
 "metadata": {
  "kernelspec": {
   "display_name": ".venv",
   "language": "python",
   "name": "python3"
  },
  "language_info": {
   "codemirror_mode": {
    "name": "ipython",
    "version": 3
   },
   "file_extension": ".py",
   "mimetype": "text/x-python",
   "name": "python",
   "nbconvert_exporter": "python",
   "pygments_lexer": "ipython3",
   "version": "3.12.1"
  }
 },
 "nbformat": 4,
 "nbformat_minor": 5
}
